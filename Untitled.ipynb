{
 "cells": [
  {
   "cell_type": "code",
   "execution_count": null,
   "metadata": {},
   "outputs": [],
   "source": [
    "import os\n",
    "import json\n",
    "import pickle\n",
    "from typing import Optional, Tuple, List\n",
    "import numpy\n",
    "\n",
    "import pickle"
   ]
  },
  {
   "cell_type": "code",
   "execution_count": null,
   "metadata": {},
   "outputs": [],
   "source": [
    "try:\n",
    "\twith open(os.path.join(\"./\", \"web_stream_recognition.conf\"), \"r\") as conf_file:\n",
    "\t\tc_data = json.load(conf_file)\n",
    "except json.JSONDecodeError as err:\n",
    "\tprint(f\"Can't read conf file [{err}]\")\n",
    "\texit(1)"
   ]
  },
  {
   "cell_type": "code",
   "execution_count": null,
   "metadata": {},
   "outputs": [],
   "source": [
    "c_data"
   ]
  },
  {
   "cell_type": "code",
   "execution_count": null,
   "metadata": {},
   "outputs": [],
   "source": [
    "class Config:\n",
    "\n",
    "\tdef __init__(self):\n",
    "\t\tself.draw_result = True  #type: bool\n",
    "\t\tself.draw_result_size = (650, 480)  # type: Tuple[int, int]\n",
    "\t\tself.draw_face_rectangle = True  #type: bool\n",
    "\t\tself.draw_landmarks = True  #type: bool\n",
    "\t\tself.draw_font_params = DrawFontParams()  #type: DrawFontParams\n"
   ]
  },
  {
   "cell_type": "code",
   "execution_count": null,
   "metadata": {},
   "outputs": [],
   "source": [
    "class ConfigRecognition(Config):\n",
    "\n",
    "\tdef set_config(self, c_all: dict) -> int:\n",
    "\t\ttry:\n",
    "\t\t\tc = c_all[\"Recognition\"]\n",
    "\t\t\tself.load_from = c[\"Load from\"]\n",
    "\t\t\treturn Config.set_config(self, c_all)\n",
    "\t\texcept Exception as err:\n",
    "\t\t\tprint(f'Error in Memorization section of conf [{err}]')\n",
    "\t\t\treturn 1"
   ]
  },
  {
   "cell_type": "code",
   "execution_count": null,
   "metadata": {},
   "outputs": [],
   "source": [
    "def load_persons():\n",
    "\tp_files = os.listdir('/home/kirill/my-project-env/person/')  #type: List[str]\n",
    "\tp_names = list()  #type: List[str]\n",
    "\tp_descriptors = list()  #type: List[numpy.array]\n",
    "\tos.chdir('person')\n",
    "\tfor p_file in p_files:\n",
    "\t\tname = os.path.splitext(p_file)[0]\n",
    "\t\ttry:\n",
    "\t\t\twith open( p_file, \"rb\") as f:\n",
    "\t\t\t\tdescriptor = pickle.load(f)\n",
    "\t\texcept Exception as err:\n",
    "\t\t\tprint(f\"Failed to load person file, sckipping it [{p_file}][{err}]\")\n",
    "\t\t\tcontinue\n",
    "\t\t#print(f\"Loaded {name} - {len(descriptor)}\")\n",
    "\t\tp_names.append(name)\n",
    "\t\tp_descriptors.append(numpy.array(descriptor))\n",
    "\tos.chdir('..')\n",
    "\treturn p_names, p_descriptors\n"
   ]
  },
  {
   "cell_type": "code",
   "execution_count": null,
   "metadata": {},
   "outputs": [],
   "source": [
    "conf = ConfigRecognition()"
   ]
  },
  {
   "cell_type": "code",
   "execution_count": 1,
   "metadata": {},
   "outputs": [],
   "source": [
    "from datetime import datetime"
   ]
  },
  {
   "cell_type": "code",
   "execution_count": 13,
   "metadata": {},
   "outputs": [],
   "source": [
    "now= datetime.now()"
   ]
  },
  {
   "cell_type": "code",
   "execution_count": 17,
   "metadata": {},
   "outputs": [],
   "source": [
    "import time"
   ]
  },
  {
   "cell_type": "code",
   "execution_count": 25,
   "metadata": {},
   "outputs": [
    {
     "name": "stdout",
     "output_type": "stream",
     "text": [
      "1568791743.3834062\n"
     ]
    }
   ],
   "source": [
    "x=time.time()\n",
    "print(x)"
   ]
  },
  {
   "cell_type": "code",
   "execution_count": 26,
   "metadata": {},
   "outputs": [],
   "source": [
    "y=time.time()"
   ]
  },
  {
   "cell_type": "code",
   "execution_count": 27,
   "metadata": {},
   "outputs": [
    {
     "name": "stdout",
     "output_type": "stream",
     "text": [
      "0.6979551315307617\n"
     ]
    }
   ],
   "source": [
    "print(y-x)"
   ]
  },
  {
   "cell_type": "code",
   "execution_count": 15,
   "metadata": {},
   "outputs": [
    {
     "name": "stdout",
     "output_type": "stream",
     "text": [
      "-1 day, 23:59:59.706801\n"
     ]
    }
   ],
   "source": [
    "print(now-now1)"
   ]
  },
  {
   "cell_type": "code",
   "execution_count": null,
   "metadata": {},
   "outputs": [],
   "source": [
    "len(p_descriptors)"
   ]
  },
  {
   "cell_type": "code",
   "execution_count": null,
   "metadata": {},
   "outputs": [],
   "source": [
    "\tp_files = os.listdir('/home/kirill/my-project-env/person/')  #type: List[str]\n"
   ]
  },
  {
   "cell_type": "code",
   "execution_count": null,
   "metadata": {},
   "outputs": [],
   "source": [
    "p_file=p_files[0]"
   ]
  },
  {
   "cell_type": "code",
   "execution_count": null,
   "metadata": {},
   "outputs": [],
   "source": [
    "name = os.path.splitext(p_file)[0]"
   ]
  },
  {
   "cell_type": "code",
   "execution_count": null,
   "metadata": {},
   "outputs": [],
   "source": [
    "name"
   ]
  },
  {
   "cell_type": "code",
   "execution_count": null,
   "metadata": {},
   "outputs": [],
   "source": [
    "os.getcwd()\n"
   ]
  },
  {
   "cell_type": "code",
   "execution_count": null,
   "metadata": {},
   "outputs": [],
   "source": [
    "with open( p_file, \"rb\") as f:\n",
    "    descriptor = pickle.load(f)"
   ]
  },
  {
   "cell_type": "code",
   "execution_count": null,
   "metadata": {},
   "outputs": [],
   "source": [
    "os.chdir('..')\n"
   ]
  },
  {
   "cell_type": "code",
   "execution_count": null,
   "metadata": {},
   "outputs": [],
   "source": []
  }
 ],
 "metadata": {
  "kernelspec": {
   "display_name": "Python 3",
   "language": "python",
   "name": "python3"
  },
  "language_info": {
   "codemirror_mode": {
    "name": "ipython",
    "version": 3
   },
   "file_extension": ".py",
   "mimetype": "text/x-python",
   "name": "python",
   "nbconvert_exporter": "python",
   "pygments_lexer": "ipython3",
   "version": "3.6.8"
  }
 },
 "nbformat": 4,
 "nbformat_minor": 2
}
